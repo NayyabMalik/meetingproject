{
 "cells": [
  {
   "cell_type": "markdown",
   "id": "cbb0edc7",
   "metadata": {},
   "source": [
    "# join google meet using selenium library"
   ]
  },
  {
   "cell_type": "code",
   "execution_count": null,
   "id": "2e13333d",
   "metadata": {},
   "outputs": [
    {
     "name": "stdout",
     "output_type": "stream",
     "text": [
      "1\n",
      "1\n"
     ]
    }
   ],
   "source": [
    "from selenium import webdriver\n",
    "from selenium.webdriver.common.by import By\n",
    "from selenium.webdriver.chrome.options import Options\n",
    "from selenium.webdriver.support.ui import WebDriverWait\n",
    "from selenium.webdriver.support import expected_conditions as EC\n",
    "import time\n",
    "from selenium.webdriver.common.keys import Keys\n",
    "def turnOffMicCam():\n",
    "    print(1)\n",
    "    time.sleep(5)\n",
    "        #camera\n",
    "    driver.find_element(By.XPATH, '/html/body/div/c-wiz/div/div/div[27]/div[3]/div/div[2]/div[4]/div/div/div[1]/div[1]/div/div[6]/div[2]/div/div[1]').click()\n",
    "    driver.implicitly_wait(2000)\n",
    "    time.sleep(5)\n",
    "        #mic\n",
    "    driver.find_element(By.XPATH, '/html/body/div/c-wiz/div/div/div[27]/div[3]/div/div[2]/div[4]/div/div/div[1]/div[1]/div/div[6]/div[1]/div/div/div[1]').click()\n",
    "    print(1)\n",
    "    driver.implicitly_wait(2000)\n",
    "def joinMeeting():\n",
    "    # input\n",
    "    time.sleep(5)\n",
    "    driver.find_element(By.XPATH, '/html/body/div/c-wiz/div/div/div[27]/div[3]/div/div[2]/div[4]/div/div/div[2]/div[1]/div[1]/div[3]/label/input').send_keys('Bot')\n",
    "    driver.implicitly_wait(2000)\n",
    "    print(1)\n",
    "    #ask for join\n",
    "    time.sleep(5)\n",
    "    driver.find_element(By.XPATH, '/html/body/div/c-wiz/div/div/div[27]/div[3]/div/div[2]/div[4]/div/div/div[2]/div[1]/div[2]/div[1]/div').click()\n",
    "    driver.implicitly_wait(2000)\n",
    "    print(1)\n",
    "\n",
    " \n",
    "meeting_url = 'http://meet.google.com/oua-fgaw-req'\n",
    "\n",
    "opt = Options()\n",
    "opt.add_argument('--disable-blink-features=AutomationControlled')\n",
    "opt.add_argument('--start-maximized')\n",
    "opt.add_experimental_option(\"prefs\", {\n",
    " \n",
    "    \"profile.default_content_setting_values.media_stream_mic\": 1,\n",
    "    \"profile.default_content_setting_values.media_stream_camera\": 1,\n",
    "    \"profile.default_content_setting_values.geolocation\": 0,\n",
    "    \"profile.default_content_setting_values.notifications\": 1\n",
    "})\n",
    "driver = webdriver.Chrome(options=opt)\n",
    "driver.get(meeting_url)\n",
    "\n",
    "turnOffMicCam()\n",
    "joinMeeting()\n",
    "\n",
    "\n",
    "driver.quit()\n"
   ]
  }
 ],
 "metadata": {
  "kernelspec": {
   "display_name": "Python 3 (ipykernel)",
   "language": "python",
   "name": "python3"
  },
  "language_info": {
   "codemirror_mode": {
    "name": "ipython",
    "version": 3
   },
   "file_extension": ".py",
   "mimetype": "text/x-python",
   "name": "python",
   "nbconvert_exporter": "python",
   "pygments_lexer": "ipython3",
   "version": "3.11.5"
  }
 },
 "nbformat": 4,
 "nbformat_minor": 5
}
